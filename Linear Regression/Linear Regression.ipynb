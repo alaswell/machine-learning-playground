{
 "cells": [
  {
   "cell_type": "markdown",
   "metadata": {},
   "source": [
    "$\\newcommand{\\xv}{\\mathbf{x}}\n",
    "\\newcommand{\\Xv}{\\mathbf{X}}\n",
    "\\newcommand{\\yv}{\\mathbf{y}}\n",
    "\\newcommand{\\zv}{\\mathbf{z}}\n",
    "\\newcommand{\\av}{\\mathbf{a}}\n",
    "\\newcommand{\\Wv}{\\mathbf{W}}\n",
    "\\newcommand{\\wv}{\\mathbf{w}}\n",
    "\\newcommand{\\tv}{\\mathbf{t}}\n",
    "\\newcommand{\\Tv}{\\mathbf{T}}\n",
    "\\newcommand{\\muv}{\\boldsymbol{\\mu}}\n",
    "\\newcommand{\\sigmav}{\\boldsymbol{\\sigma}}\n",
    "\\newcommand{\\phiv}{\\boldsymbol{\\phi}}\n",
    "\\newcommand{\\Phiv}{\\boldsymbol{\\Phi}}\n",
    "\\newcommand{\\Sigmav}{\\boldsymbol{\\Sigma}}\n",
    "\\newcommand{\\Lambdav}{\\boldsymbol{\\Lambda}}\n",
    "\\newcommand{\\half}{\\frac{1}{2}}\n",
    "\\newcommand{\\argmax}[1]{\\underset{#1}{\\operatorname{argmax}}}\n",
    "\\newcommand{\\argmin}[1]{\\underset{#1}{\\operatorname{argmin}}}$"
   ]
  },
  {
   "cell_type": "markdown",
   "metadata": {},
   "source": [
    "# Linear Regression"
   ]
  },
  {
   "cell_type": "markdown",
   "metadata": {},
   "source": [
    "$\\newcommand{\\xv}{\\mathbf{x}}\n",
    "\\newcommand{\\Xv}{\\mathbf{X}}\n",
    "\\newcommand{\\yv}{\\mathbf{y}}\n",
    "\\newcommand{\\zv}{\\mathbf{z}}\n",
    "\\newcommand{\\av}{\\mathbf{a}}\n",
    "\\newcommand{\\Wv}{\\mathbf{W}}\n",
    "\\newcommand{\\wv}{\\mathbf{w}}\n",
    "\\newcommand{\\tv}{\\mathbf{t}}\n",
    "\\newcommand{\\Tv}{\\mathbf{T}}\n",
    "\\newcommand{\\muv}{\\boldsymbol{\\mu}}\n",
    "\\newcommand{\\sigmav}{\\boldsymbol{\\sigma}}\n",
    "\\newcommand{\\phiv}{\\boldsymbol{\\phi}}\n",
    "\\newcommand{\\Phiv}{\\boldsymbol{\\Phi}}\n",
    "\\newcommand{\\Sigmav}{\\boldsymbol{\\Sigma}}\n",
    "\\newcommand{\\Lambdav}{\\boldsymbol{\\Lambda}}\n",
    "\\newcommand{\\half}{\\frac{1}{2}}\n",
    "\\newcommand{\\argmax}[1]{\\underset{#1}{\\operatorname{argmax}}}\n",
    "\\newcommand{\\argmin}[1]{\\underset{#1}{\\operatorname{argmin}}}$"
   ]
  },
  {
   "cell_type": "markdown",
   "metadata": {},
   "source": [
    "Alex Laswell"
   ]
  },
  {
   "cell_type": "markdown",
   "metadata": {},
   "source": [
    "## Overview"
   ]
  },
  {
   "cell_type": "markdown",
   "metadata": {},
   "source": [
    "With a partitioned data set of 80% as training samples and 20% as testing samples, this is an attempt to fit a linear model to all of the sample data and to test how accurate our predictions are. Additionally, we will take each sample of inputs and compare our results to known desired outputs. The prediction will also minimize the sum of squared errors to further refine the prediction. "
   ]
  },
  {
   "cell_type": "markdown",
   "metadata": {},
   "source": [
    "## Method"
   ]
  },
  {
   "cell_type": "markdown",
   "metadata": {},
   "source": [
    "The formula we want to be minimized:\n",
    "\n",
    "$$\n",
    "\\begin{align*}\n",
    "\\sum_{n=1}^N (t_n - g(\\xv_n;\\wv))^2\n",
    "\\end{align*}\n",
    "$$\n",
    "\n",
    "Matrix calculation for finding weights (w):\n",
    "\n",
    "$$\n",
    "\\begin{align*}\n",
    "-2 \\Xv^T (\\Tv - \\Xv \\wv) &= 0\\\\\n",
    "\\Xv^T (\\Tv - \\Xv \\wv) &= 0\\\\\n",
    "\\Xv^T \\Tv &= \\Xv^T \\Xv \\wv\\\\\n",
    "\\wv &= (\\Xv^T \\Xv)^{-1} \\Xv^T \\Tv\n",
    "\\end{align*}\n",
    "$$\n",
    "\n",
    "Calculation for finding the weights using Stochastic Gradient Descent:\n",
    "\n",
    "$$\n",
    "\\begin{align*}\n",
    "\\wv^{(k+1)} &= \\wv^{(k)} - (-2) \\eta \\xv_n (\\tv_n^T - \\xv_n^T  \\wv)\\\\\n",
    " &= \\wv^{(k)} + \\eta \\xv_n (\\tv_n^T - \\xv_n^T  \\wv) \n",
    "\\end{align*}\n",
    "$$"
   ]
  },
  {
   "cell_type": "code",
   "execution_count": 2,
   "metadata": {},
   "outputs": [
    {
     "name": "stderr",
     "output_type": "stream",
     "text": [
      "  % Total    % Received % Xferd  Average Speed   Time    Time     Time  Current\n",
      "                                 Dload  Upload   Total   Spent    Left  Speed\n",
      "\n",
      "  0     0    0     0    0     0      0      0 --:--:-- --:--:-- --:--:--     0\n",
      "  0     0    0     0    0     0      0      0 --:--:-- --:--:-- --:--:--     0\n",
      "  7 11.4M    7  864k    0     0   864k      0  0:00:13  0:00:01  0:00:12  800k\n",
      " 45 11.4M   45 5360k    0     0  2680k      0  0:00:04  0:00:02  0:00:02 2578k\n",
      "100 11.4M  100 11.4M    0     0  5849k      0  0:00:02  0:00:02 --:--:-- 4135k\n"
     ]
    }
   ],
   "source": [
    "!curl -O https://archive.ics.uci.edu/ml/machine-learning-databases/00374/energydata_complete.csv"
   ]
  },
  {
   "cell_type": "code",
   "execution_count": 3,
   "metadata": {
    "collapsed": true
   },
   "outputs": [],
   "source": [
    "# Assumes the following line has been run in ipython or in your command shell without the leading !\n",
    "# !curl -O http://archive.ics.uci.edu/ml/machine-learning-databases/00374/energydata_complete.csv\">http://archive.ics.uci.edu/ml/machine-learning-databases/00374/energydata_complete.csv\n",
    "\n",
    "import pandas\n",
    "import numpy as np\n",
    "import matplotlib.pyplot as plt\n",
    "%matplotlib inline\n",
    "from IPython.display import display, clear_output"
   ]
  },
  {
   "cell_type": "code",
   "execution_count": 4,
   "metadata": {
    "collapsed": true
   },
   "outputs": [],
   "source": [
    "def partitionData(X, T):\n",
    "    # partition the data into training (80%) and testing (20%) sets\n",
    "    nrows = X.shape[0]\n",
    "    nTrain = int(round(nrows*0.8))\n",
    "    nTest = nrows - nTrain\n",
    "\n",
    "    rows = np.arange(nrows)\n",
    "    np.random.shuffle(rows)\n",
    "\n",
    "    trainIndices = rows[:nTrain]\n",
    "    testIndices = rows[nTrain:]\n",
    "\n",
    "    Xtrain = X[trainIndices, :]\n",
    "    Ttrain = T[trainIndices, :]\n",
    "    Xtest = X[testIndices, :]\n",
    "    Ttest = T[testIndices, :]\n",
    "    return Xtrain, Ttrain, Xtest, Ttest"
   ]
  },
  {
   "cell_type": "code",
   "execution_count": 5,
   "metadata": {
    "collapsed": true
   },
   "outputs": [],
   "source": [
    "def train(X, T):\n",
    "    # First we need to standardize the input\n",
    "    d = {}\n",
    "    means = X.mean(axis=0)\n",
    "    stds = X.std(axis=0)\n",
    "    d['means'] = means\n",
    "    d['stds'] = stds\n",
    "\n",
    "    Xs = (X - means) / stds\n",
    "\n",
    "    # add in the bias weight, only AFTER standardizing\n",
    "    Xs1 = np.insert(Xs, 0, 1, 1)\n",
    "\n",
    "    # finally run the equation\n",
    "    w = np.linalg.lstsq(Xs1.T @ Xs1, Xs1.T @ T)[0]\n",
    "    d['w'] = w\n",
    "    return d"
   ]
  },
  {
   "cell_type": "code",
   "execution_count": 6,
   "metadata": {
    "collapsed": true
   },
   "outputs": [],
   "source": [
    "def trainSGD(X, T, learningRate, numberOfIterations):\n",
    "    # First we need to standardize the input\n",
    "    d = {}\n",
    "    means = X.mean(axis=0)\n",
    "    stds = X.std(axis=0)\n",
    "    d['means'] = means\n",
    "    d['stds'] = stds\n",
    "\n",
    "    Xs = (X - means) / stds\n",
    "\n",
    "    # add in the bias weight, only AFTER standardizing\n",
    "    Xs1 = np.insert(Xs, 0, 1, 1)\n",
    "\n",
    "    w = np.zeros((X.shape[1]+1, T.shape[1]))\n",
    "\n",
    "    nSamples = Xs1.shape[0]\n",
    "    # iteratively calculate w\n",
    "    for iter in range(numberOfIterations):\n",
    "        for n in range(nSamples):\n",
    "            predicted = Xs1[n:n + 1, :] @ w  # n:n+1 is used instead of n to preserve the 2-dimensional matrix structure\n",
    "            # Update w using negative derivative of error for nth sample\n",
    "            w += learningRate * Xs1[n:n + 1, :].T * (T[n:n + 1, :] - predicted)\n",
    "    d['w'] = w\n",
    "    return d "
   ]
  },
  {
   "cell_type": "code",
   "execution_count": 7,
   "metadata": {
    "collapsed": true
   },
   "outputs": [],
   "source": [
    "def use(model, X):\n",
    "    XtestS = (X - model['means']) / model['stds']\n",
    "    XtestS1 = np.insert(XtestS, 0, 1, 1)\n",
    "    prediction = XtestS1 @ model['w']\n",
    "    return prediction"
   ]
  },
  {
   "cell_type": "code",
   "execution_count": 8,
   "metadata": {
    "collapsed": true
   },
   "outputs": [],
   "source": [
    "def rmse(predicted, T):\n",
    "    return np.sqrt(np.mean((predicted - T)**2, axis=None))"
   ]
  },
  {
   "cell_type": "markdown",
   "metadata": {},
   "source": [
    "## Results"
   ]
  },
  {
   "cell_type": "code",
   "execution_count": 9,
   "metadata": {
    "collapsed": true
   },
   "outputs": [],
   "source": [
    "# read in the dataset we are interested in\n",
    "data = pandas.read_csv('energydata_complete.csv')\n",
    "# read data into arrays X and T\n",
    "T = data[['Appliances', 'lights']]\n",
    "T = np.array(T)\n",
    "X = data.drop(['date','Appliances', 'lights', 'rv1', 'rv2'], axis=1)\n",
    "X = np.array(X)\n",
    "\n",
    "# read names into arrays Xnames and Tnames\n",
    "data1 = data.drop(['date','Appliances', 'lights', 'rv1', 'rv2'], axis=1)\n",
    "names = data1.columns.values.tolist()\n",
    "Xnames = names[2:]\n",
    "Tnames = names[0:2]\n",
    "Xnames.insert(0, 'bias')"
   ]
  },
  {
   "cell_type": "code",
   "execution_count": 10,
   "metadata": {
    "collapsed": true
   },
   "outputs": [],
   "source": [
    "# convention is to partion the dataset into 80% (training sample) and 20% (testing sample)\n",
    "Xtrain, Ttrain, Xtest, Ttest = partitionData(X, T)"
   ]
  },
  {
   "cell_type": "code",
   "execution_count": 11,
   "metadata": {},
   "outputs": [
    {
     "name": "stdout",
     "output_type": "stream",
     "text": [
      "65.9531452933\n",
      "71.6258532649\n"
     ]
    }
   ],
   "source": [
    "model = train(Xtrain, Ttrain)\n",
    "predicted = use(model, Xtest)\n",
    "error = rmse(predicted, Ttest)\n",
    "print(error)\n",
    "modelSGD = trainSGD(Xtrain, Ttrain, 0.01, 1)\n",
    "predictedSGD = use(modelSGD, Xtest)\n",
    "errorSGD = rmse(predictedSGD, Ttest)\n",
    "print(errorSGD)"
   ]
  },
  {
   "cell_type": "markdown",
   "metadata": {},
   "source": [
    "The errors are very very close, as expected. They should be nearly identical if they are both running corretly. "
   ]
  },
  {
   "cell_type": "code",
   "execution_count": 20,
   "metadata": {},
   "outputs": [
    {
     "data": {
      "image/png": "[encoded data removed]",
      "text/plain": [
       "<matplotlib.figure.Figure at 0x1990e359278>"
      ]
     },
     "metadata": {},
     "output_type": "display_data"
    },
    {
     "data": {
      "image/png": "[encoded data removed]",
      "text/plain": [
       "<matplotlib.figure.Figure at 0x1990e359160>"
      ]
     },
     "metadata": {},
     "output_type": "display_data"
    }
   ],
   "source": [
    "plt.figure(figsize=(10,10))\n",
    "for p in range(2):\n",
    "    plt.subplot(2, 1, p+1)\n",
    "    plt.plot(predicted[:, p], Ttest[:, p], 'o')\n",
    "    plt.xlabel(\"Predicted \" + Tnames[p])\n",
    "    plt.ylabel(\"Actual \" + Tnames[p])\n",
    "    a = max(min(predicted[:, p]), min(Ttest[:, p]))\n",
    "    b = min(max(predicted[:, p]), max(Ttest[:, p]))\n",
    "    plt.plot([a, b], [a, b], 'r', linewidth=3)\n",
    "\n",
    "plt.figure(figsize=(10,10))\n",
    "for p in range(2):\n",
    "    plt.subplot(2, 1, p+1)\n",
    "    plt.plot(predictedSGD[:, p], Ttest[:, p], 'o', color='orange')\n",
    "    plt.xlabel(\"PredictedSGD \" + Tnames[p])\n",
    "    plt.ylabel(\"ActualSGD \" + Tnames[p])\n",
    "    a = max(min(predictedSGD[:, p]), min(Ttest[:, p]))\n",
    "    b = min(max(predictedSGD[:, p]), max(Ttest[:, p]))\n",
    "    plt.plot([a, b], [a, b], 'r', linewidth=3)"
   ]
  },
  {
   "cell_type": "markdown",
   "metadata": {},
   "source": [
    "T1 looks pretty good. The data is pretty scattered, but it kinda resembles a 45 degree line and seems to be a decent prediction.\n",
    "\n",
    "RH_1 has something really strange going on. Looking at the data though, it makes since that this should show up like this. However, at first glance it is super confusing. "
   ]
  },
  {
   "cell_type": "markdown",
   "metadata": {},
   "source": [
    "**Show the values of the resulting weights and discuss which ones might be least relevant for fitting your linear model.  Remove them, fit the linear model again, plot the results, and discuss what you see.**"
   ]
  },
  {
   "cell_type": "code",
   "execution_count": 138,
   "metadata": {},
   "outputs": [
    {
     "name": "stdout",
     "output_type": "stream",
     "text": [
      "\n",
      " Weights for T1 target\n",
      "\n",
      "  99.997  bias\n",
      "  -3.751  T2\n",
      "  71.412  RH_2\n",
      " -44.583  T3\n",
      " -67.834  RH_3\n",
      "  46.900  T4\n",
      "  10.314  RH_4\n",
      "  13.839  T5\n",
      "  25.787  RH_5\n",
      "  -3.984  T6\n",
      "   1.475  RH_6\n",
      "  46.464  T7\n",
      "   1.849  RH_7\n",
      "  -2.227  T8\n",
      " -10.283  RH_8\n",
      "  30.496  T9\n",
      " -34.139  RH_9\n",
      " -45.728  T_out\n",
      "  -5.020  Press_mm_hg\n",
      " -50.510  RH_out\n",
      "   1.704  Windspeed\n",
      "  -1.106  Visibility\n",
      "   5.620  Tdewpoint\n",
      "\n",
      " Weights for RH_1 target\n",
      "\n",
      "   3.813  bias\n",
      "   0.968  T2\n",
      "   2.130  RH_2\n",
      "  -3.212  T3\n",
      "  -2.425  RH_3\n",
      "   0.102  T4\n",
      "   1.014  RH_4\n",
      "   6.201  T5\n",
      "   4.677  RH_5\n",
      "   0.033  T6\n",
      "   0.222  RH_6\n",
      "   0.806  T7\n",
      "   0.975  RH_7\n",
      "  -0.965  T8\n",
      "  -1.013  RH_8\n",
      "   1.558  T9\n",
      "  -2.883  RH_9\n",
      "  -4.940  T_out\n",
      "  -1.816  Press_mm_hg\n",
      "  -0.436  RH_out\n",
      "  -0.074  Windspeed\n",
      "   1.085  Visibility\n",
      "   0.589  Tdewpoint\n"
     ]
    }
   ],
   "source": [
    "Xnames = np.array(Xnames)\n",
    "for targeti in range(2):\n",
    "    print('\\n Weights for {} target\\n'.format(Tnames[targeti]))\n",
    "    thisw = w[:, targeti]\n",
    "    for wi ,name in zip(thisw, Xnames):\n",
    "        print('{:8.3f}  {:s}'.format(wi, name))"
   ]
  },
  {
   "cell_type": "markdown",
   "metadata": {},
   "source": [
    "## Least Significant Factors\n",
    "\n",
    "T1   - Visibility, RH_6, Windspeed, RH_7, T8, T2, T6\n",
    "RH_1 - T6, T4, RH_6, Tdewpoint, T7, T2, RH_7, RH_4, Visibility\n",
    "\n",
    "Test without: Visibility, RH6, T2, RH_7, T6"
   ]
  },
  {
   "cell_type": "markdown",
   "metadata": {},
   "source": [
    "Without these factors, the predictions are even more acturate and error is reduced! "
   ]
  },
  {
   "cell_type": "code",
   "execution_count": 4,
   "metadata": {
    "collapsed": true
   },
   "outputs": [],
   "source": [
    "# %run -i \"A1grader.py\""
   ]
  }
 ],
 "metadata": {
  "kernelspec": {
   "display_name": "Python 3",
   "language": "python",
   "name": "python3"
  },
  "language_info": {
   "codemirror_mode": {
    "name": "ipython",
    "version": 3
   },
   "file_extension": ".py",
   "mimetype": "text/x-python",
   "name": "python",
   "nbconvert_exporter": "python",
   "pygments_lexer": "ipython3",
   "version": "3.6.3"
  }
 },
 "nbformat": 4,
 "nbformat_minor": 2
}
