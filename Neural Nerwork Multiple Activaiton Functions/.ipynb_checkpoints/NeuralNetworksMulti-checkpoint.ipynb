{
 "cells": [
  {
   "cell_type": "markdown",
   "metadata": {},
   "source": [
    "$\\newcommand{\\xv}{\\mathbf{x}}\n",
    "\\newcommand{\\Xv}{\\mathbf{X}}\n",
    "\\newcommand{\\yv}{\\mathbf{y}}\n",
    "\\newcommand{\\zv}{\\mathbf{z}}\n",
    "\\newcommand{\\av}{\\mathbf{a}}\n",
    "\\newcommand{\\Wv}{\\mathbf{W}}\n",
    "\\newcommand{\\wv}{\\mathbf{w}}\n",
    "\\newcommand{\\tv}{\\mathbf{t}}\n",
    "\\newcommand{\\Tv}{\\mathbf{T}}\n",
    "\\newcommand{\\muv}{\\boldsymbol{\\mu}}\n",
    "\\newcommand{\\sigmav}{\\boldsymbol{\\sigma}}\n",
    "\\newcommand{\\phiv}{\\boldsymbol{\\phi}}\n",
    "\\newcommand{\\Phiv}{\\boldsymbol{\\Phi}}\n",
    "\\newcommand{\\Sigmav}{\\boldsymbol{\\Sigma}}\n",
    "\\newcommand{\\Lambdav}{\\boldsymbol{\\Lambda}}\n",
    "\\newcommand{\\half}{\\frac{1}{2}}\n",
    "\\newcommand{\\argmax}[1]{\\underset{#1}{\\operatorname{argmax}}}\n",
    "\\newcommand{\\argmin}[1]{\\underset{#1}{\\operatorname{argmin}}}$"
   ]
  },
  {
   "cell_type": "markdown",
   "metadata": {},
   "source": [
    "# Activation Functions"
   ]
  },
  {
   "cell_type": "markdown",
   "metadata": {},
   "source": [
    "Alex Laswell"
   ]
  },
  {
   "cell_type": "markdown",
   "metadata": {},
   "source": [
    "## Overview"
   ]
  },
  {
   "cell_type": "markdown",
   "metadata": {},
   "source": [
    "In this notebook, I have created a new version of the ```NeuralNetwork``` class from the previous assignment. However, for this new version, I define the activation function to be the Rectified Linear Unit (ReLU).\n",
    "\n",
    "I then compare the training and testing performances of networks with tanh and networks with the ReLU activation functions."
   ]
  },
  {
   "cell_type": "markdown",
   "metadata": {},
   "source": [
    "### NeuralNetworkReLU"
   ]
  },
  {
   "cell_type": "markdown",
   "metadata": {},
   "source": [
    "Starting with the ```NeuralNetwork``` class defined in ```neuralnetworksA2.py```. I Define a new class named ```NeuralNetworkReLU``` that extends ```NeuralNetwork``` and simply defines new implementations of ```activation``` and ```activationDerivative``` that implement the ReLU activation function instead of the tanh activation function."
   ]
  },
  {
   "cell_type": "markdown",
   "metadata": {},
   "source": [
    "## Required Code"
   ]
  },
  {
   "cell_type": "markdown",
   "metadata": {},
   "source": [
    "This class requires mlutilities.py which is imported from http://www.cs.colostate.edu/~anderson/cs445/notebooks/mlutilities09.tar"
   ]
  },
  {
   "cell_type": "code",
   "execution_count": 245,
   "metadata": {},
   "outputs": [
    {
     "name": "stdout",
     "output_type": "stream",
     "text": [
      "Overwriting neuralnetworksA2.py\n"
     ]
    }
   ],
   "source": [
    "%%writefile neuralnetworksA2.py\n",
    "\n",
    "import numpy as np\n",
    "import mlutilities as ml\n",
    "import matplotlib.pyplot as plt\n",
    "from copy import copy\n",
    "import time\n",
    "import random\n",
    "\n",
    "\n",
    "class NeuralNetwork(object):\n",
    "\n",
    "    def __init__(self, ni, nhs, no):\n",
    "        if isinstance(nhs, list) or isinstance(nhs, tuple):\n",
    "            nihs = [ni] + list(nhs)\n",
    "        else:\n",
    "            if nhs > 0:\n",
    "                nihs = [ni, nhs]\n",
    "                nhs = [nhs]\n",
    "            else:\n",
    "                nihs = [ni]\n",
    "                nhs = []\n",
    "        if len(nihs) > 1:\n",
    "            self.Vs = [1/np.sqrt(nihs[i]) *\n",
    "                       np.random.uniform(-1, 1, size=(1+nihs[i], nihs[i+1])) for i in range(len(nihs)-1)]\n",
    "            self.W = 1/np.sqrt(nhs[-1]) * np.random.uniform(-1, 1, size=(1+nhs[-1], no))\n",
    "        else:\n",
    "            self.Vs = []\n",
    "            self.W = 1/np.sqrt(ni) * np.random.uniform(-1, 1, size=(1+ni, no))\n",
    "        self.ni, self.nhs, self.no = ni, nhs, no\n",
    "        self.Xmeans = None\n",
    "        self.Xstds = None\n",
    "        self.Tmeans = None\n",
    "        self.Tstds = None\n",
    "        self.trained = False\n",
    "        self.reason = None\n",
    "        self.errorTrace = None\n",
    "        self.numberOfIterations = None\n",
    "        self.trainingTime = None\n",
    "\n",
    "    def __repr__(self):\n",
    "        str = 'NeuralNetwork({}, {}, {})'.format(self.ni, self.nhs, self.no)\n",
    "        # str += '  Standardization parameters' + (' not' if self.Xmeans == None else '') + ' calculated.'\n",
    "        if self.trained:\n",
    "            str += '\\n   Network was trained for {} iterations that took {:.4f} seconds. Final error is {}.'.format(self.numberOfIterations, self.getTrainingTime(), self.errorTrace[-1])\n",
    "        else:\n",
    "            str += '  Network is not trained.'\n",
    "        return str\n",
    "\n",
    "    def _standardizeX(self, X):\n",
    "        result = (X - self.Xmeans) / self.XstdsFixed\n",
    "        result[:, self.Xconstant] = 0.0\n",
    "        return result\n",
    "\n",
    "    def _unstandardizeX(self, Xs):\n",
    "        return self.Xstds * Xs + self.Xmeans\n",
    "\n",
    "    def _standardizeT(self, T):\n",
    "        result = (T - self.Tmeans) / self.TstdsFixed\n",
    "        result[:, self.Tconstant] = 0.0\n",
    "        return result\n",
    "\n",
    "    def _unstandardizeT(self, Ts):\n",
    "        return self.Tstds * Ts + self.Tmeans\n",
    "\n",
    "    def _pack(self, Vs, W):\n",
    "        return np.hstack([V.flat for V in Vs] + [W.flat])\n",
    "\n",
    "    def _unpack(self, w):\n",
    "        first = 0\n",
    "        numInThisLayer = self.ni\n",
    "        for i in range(len(self.Vs)):\n",
    "            self.Vs[i][:] = w[first:first+(numInThisLayer+1)*self.nhs[i]].reshape((numInThisLayer+1, self.nhs[i]))\n",
    "            first += (numInThisLayer+1) * self.nhs[i]\n",
    "            numInThisLayer = self.nhs[i]\n",
    "        self.W[:] = w[first:].reshape((numInThisLayer+1, self.no))\n",
    "\n",
    "    def _objectiveF(self, w, X, T):\n",
    "        self._unpack(w)\n",
    "        # Do forward pass through all layers\n",
    "        Zprev = X\n",
    "        for i in range(len(self.nhs)):\n",
    "            V = self.Vs[i]\n",
    "            Zprev = self.activation(Zprev @ V[1:, :] + V[0:1, :])  # handling bias weight without adding column of 1's\n",
    "        Y = Zprev @ self.W[1:, :] + self.W[0:1, :]\n",
    "        return 0.5 * np.mean((T-Y)**2)\n",
    "\n",
    "    def _gradientF(self, w, X, T):\n",
    "        self._unpack(w)\n",
    "        # Do forward pass through all layers\n",
    "        Zprev = X\n",
    "        Z = [Zprev]\n",
    "        for i in range(len(self.nhs)):\n",
    "            V = self.Vs[i]\n",
    "            Zprev = self.activation(Zprev @ V[1:, :] + V[0:1, :])\n",
    "            Z.append(Zprev)\n",
    "        Y = Zprev @ self.W[1:, :] + self.W[0:1, :]\n",
    "        # Do backward pass, starting with delta in output layer\n",
    "        delta = -(T - Y) / (X.shape[0] * T.shape[1])\n",
    "        dW = np.vstack((np.ones((1, delta.shape[0])) @ delta, \n",
    "                        Z[-1].T @ delta))\n",
    "        dVs = []\n",
    "        delta = self.activationDerivative(Z[-1]) * (delta @ self.W[1:, :].T)\n",
    "        for Zi in range(len(self.nhs), 0, -1):\n",
    "            Vi = Zi - 1  # because X is first element of Z\n",
    "            dV = np.vstack((np.ones((1, delta.shape[0])) @ delta,\n",
    "                            Z[Zi-1].T @ delta))\n",
    "            dVs.insert(0, dV)\n",
    "            delta = (delta @ self.Vs[Vi][1:, :].T) * self.activationDerivative(Z[Zi-1])\n",
    "        return self._pack(dVs, dW)\n",
    "\n",
    "    def train(self, X, T, nIterations=100, verbose=False,\n",
    "              weightPrecision=0, errorPrecision=0, saveWeightsHistory=False):\n",
    "        \n",
    "        if self.Xmeans is None:\n",
    "            self.Xmeans = X.mean(axis=0)\n",
    "            self.Xstds = X.std(axis=0)\n",
    "            self.Xconstant = self.Xstds == 0\n",
    "            self.XstdsFixed = copy(self.Xstds)\n",
    "            self.XstdsFixed[self.Xconstant] = 1\n",
    "        X = self._standardizeX(X)\n",
    "\n",
    "        if T.ndim == 1:\n",
    "            T = T.reshape((-1, 1))\n",
    "\n",
    "        if self.Tmeans is None:\n",
    "            self.Tmeans = T.mean(axis=0)\n",
    "            self.Tstds = T.std(axis=0)\n",
    "            self.Tconstant = self.Tstds == 0\n",
    "            self.TstdsFixed = copy(self.Tstds)\n",
    "            self.TstdsFixed[self.Tconstant] = 1\n",
    "        T = self._standardizeT(T)\n",
    "\n",
    "        startTime = time.time()\n",
    "\n",
    "        scgresult = ml.scg(self._pack(self.Vs, self.W),\n",
    "                            self._objectiveF, self._gradientF,\n",
    "                            X, T,\n",
    "                            xPrecision=weightPrecision,\n",
    "                            fPrecision=errorPrecision,\n",
    "                            nIterations=nIterations,\n",
    "                            verbose=verbose,\n",
    "                            ftracep=True,\n",
    "                            xtracep=saveWeightsHistory)\n",
    "\n",
    "        self._unpack(scgresult['x'])\n",
    "        self.reason = scgresult['reason']\n",
    "        self.errorTrace = np.sqrt(scgresult['ftrace']) # * self.Tstds # to _unstandardize the MSEs\n",
    "        self.numberOfIterations = len(self.errorTrace)\n",
    "        self.trained = True\n",
    "        self.weightsHistory = scgresult['xtrace'] if saveWeightsHistory else None\n",
    "        self.trainingTime = time.time() - startTime\n",
    "        return self\n",
    "\n",
    "    def use(self, X, allOutputs=False):\n",
    "        Zprev = self._standardizeX(X)\n",
    "        Z = [Zprev]\n",
    "        for i in range(len(self.nhs)):\n",
    "            V = self.Vs[i]\n",
    "            Zprev = self.activation(Zprev @ V[1:, :] + V[0:1, :])\n",
    "            Z.append(Zprev)\n",
    "        Y = Zprev @ self.W[1:, :] + self.W[0:1, :]\n",
    "        Y = self._unstandardizeT(Y)\n",
    "        return (Y, Z[1:]) if allOutputs else Y\n",
    "\n",
    "    def getNumberOfIterations(self):\n",
    "        return self.numberOfIterations\n",
    "\n",
    "    def getErrors(self):\n",
    "        return self.errorTrace\n",
    "\n",
    "    def getTrainingTime(self):\n",
    "        return self.trainingTime\n",
    "\n",
    "    def getWeightsHistory(self):\n",
    "        return self.weightsHistory\n",
    "\n",
    "    def draw(self, inputNames=None, outputNames=None, gray=False):\n",
    "        ml.draw(self.Vs, self.W, inputNames, outputNames, gray)\n",
    "\n",
    "    def activation(self, weighted_sum):\n",
    "        return np.tanh(weighted_sum)\n",
    "    \n",
    "    def activationDerivative(self, activation_value):\n",
    "        return 1 - activation_value * activation_value\n",
    "    \n",
    "\n",
    "class NeuralNetworkReLU(NeuralNetwork):\n",
    "    # the following is a really fancy and quick numpy way of using  \n",
    "    # ReLU (if x <= 0 return 0 else return x) as an activation function\n",
    "    # taken from a reply by @Sid on stackoverflow.com\n",
    "    def activation(self, weighted_sum):\n",
    "        weighted_sum = np.array(weighted_sum)\n",
    "        weighted_sum[weighted_sum<=0] = 0\n",
    " \n",
    "        return weighted_sum\n",
    "    \n",
    "    def activationDerivative(self, activation_value):\n",
    "        activation_value = np.array(activation_value)\n",
    "        activation_value[activation_value<=0] = 0\n",
    "        activation_value[activation_value>0] = 1      \n",
    "        return activation_value\n",
    "    \n",
    "    \n",
    "if __name__ == '__main__':\n",
    "\n",
    "    X = np.arange(10).reshape((-1, 1))\n",
    "    T = X + 2\n",
    "\n",
    "    net = NeuralNetwork(1, 0, 1)\n",
    "    net.train(X, T, 10)\n",
    "    print(net)\n",
    "    \n",
    "    net = NeuralNetwork(1, [5, 5], 1)\n",
    "    net.train(X, T, 10)\n",
    "    print(net)"
   ]
  },
  {
   "cell_type": "markdown",
   "metadata": {},
   "source": [
    "### Partition"
   ]
  },
  {
   "cell_type": "markdown",
   "metadata": {},
   "source": [
    "To make things a little easier, I define a new function ```partition``` that is used to break up the data into training and testing sets. "
   ]
  },
  {
   "cell_type": "code",
   "execution_count": 246,
   "metadata": {
    "collapsed": true
   },
   "outputs": [],
   "source": [
    "import numpy as np\n",
    "\n",
    "X = np.arange(10*2).reshape((10, 2))\n",
    "T = X[:, 0:1] * 0.1"
   ]
  },
  {
   "cell_type": "code",
   "execution_count": 247,
   "metadata": {},
   "outputs": [
    {
     "data": {
      "text/plain": [
       "array([[ 0,  1],\n",
       "       [ 2,  3],\n",
       "       [ 4,  5],\n",
       "       [ 6,  7],\n",
       "       [ 8,  9],\n",
       "       [10, 11],\n",
       "       [12, 13],\n",
       "       [14, 15],\n",
       "       [16, 17],\n",
       "       [18, 19]])"
      ]
     },
     "execution_count": 247,
     "metadata": {},
     "output_type": "execute_result"
    }
   ],
   "source": [
    "X"
   ]
  },
  {
   "cell_type": "code",
   "execution_count": 248,
   "metadata": {},
   "outputs": [
    {
     "data": {
      "text/plain": [
       "array([[ 0. ],\n",
       "       [ 0.2],\n",
       "       [ 0.4],\n",
       "       [ 0.6],\n",
       "       [ 0.8],\n",
       "       [ 1. ],\n",
       "       [ 1.2],\n",
       "       [ 1.4],\n",
       "       [ 1.6],\n",
       "       [ 1.8]])"
      ]
     },
     "execution_count": 248,
     "metadata": {},
     "output_type": "execute_result"
    }
   ],
   "source": [
    "T"
   ]
  },
  {
   "cell_type": "code",
   "execution_count": 249,
   "metadata": {
    "collapsed": true
   },
   "outputs": [],
   "source": [
    "def partition(X, T, percent, shuffle):\n",
    "    nRows = X.shape[0]\n",
    "    rows = np.arange(nRows)\n",
    "    if shuffle:\n",
    "        np.random.shuffle(rows)\n",
    "    nTrain = int(nRows * percent)\n",
    "    trainRows = rows[:nTrain]\n",
    "    testRows = rows[nTrain:]\n",
    "    Xtrain, Ttrain = X[trainRows, :], T[trainRows, :]\n",
    "    Xtest, Ttest = X[testRows, :], T[testRows, :]\n",
    "    return Xtrain, Ttrain, Xtest, Ttest"
   ]
  },
  {
   "cell_type": "code",
   "execution_count": 250,
   "metadata": {
    "collapsed": true
   },
   "outputs": [],
   "source": [
    "Xtrain, Ttrain, Xtest, Ttest = partition(X, T, 0.8, shuffle=False)"
   ]
  },
  {
   "cell_type": "code",
   "execution_count": 251,
   "metadata": {},
   "outputs": [
    {
     "data": {
      "text/plain": [
       "array([[ 0,  1],\n",
       "       [ 2,  3],\n",
       "       [ 4,  5],\n",
       "       [ 6,  7],\n",
       "       [ 8,  9],\n",
       "       [10, 11],\n",
       "       [12, 13],\n",
       "       [14, 15]])"
      ]
     },
     "execution_count": 251,
     "metadata": {},
     "output_type": "execute_result"
    }
   ],
   "source": [
    "Xtrain"
   ]
  },
  {
   "cell_type": "code",
   "execution_count": 252,
   "metadata": {},
   "outputs": [
    {
     "data": {
      "text/plain": [
       "array([[ 0. ],\n",
       "       [ 0.2],\n",
       "       [ 0.4],\n",
       "       [ 0.6],\n",
       "       [ 0.8],\n",
       "       [ 1. ],\n",
       "       [ 1.2],\n",
       "       [ 1.4]])"
      ]
     },
     "execution_count": 252,
     "metadata": {},
     "output_type": "execute_result"
    }
   ],
   "source": [
    "Ttrain"
   ]
  },
  {
   "cell_type": "code",
   "execution_count": 253,
   "metadata": {},
   "outputs": [
    {
     "data": {
      "text/plain": [
       "array([[16, 17],\n",
       "       [18, 19]])"
      ]
     },
     "execution_count": 253,
     "metadata": {},
     "output_type": "execute_result"
    }
   ],
   "source": [
    "Xtest"
   ]
  },
  {
   "cell_type": "code",
   "execution_count": 254,
   "metadata": {},
   "outputs": [
    {
     "data": {
      "text/plain": [
       "array([[ 1.6],\n",
       "       [ 1.8]])"
      ]
     },
     "execution_count": 254,
     "metadata": {},
     "output_type": "execute_result"
    }
   ],
   "source": [
    "Ttest"
   ]
  },
  {
   "cell_type": "markdown",
   "metadata": {},
   "source": [
    "If ```shuffle=True``` is used as an argument, then the samples are randomly rearranged before the partitions are formed."
   ]
  },
  {
   "cell_type": "code",
   "execution_count": 255,
   "metadata": {
    "collapsed": true
   },
   "outputs": [],
   "source": [
    "Xtrain, Ttrain, Xtest, Ttest = partition(X, T, 0.8, shuffle=True)"
   ]
  },
  {
   "cell_type": "code",
   "execution_count": 256,
   "metadata": {},
   "outputs": [
    {
     "data": {
      "text/plain": [
       "array([[ 0,  1],\n",
       "       [ 6,  7],\n",
       "       [ 4,  5],\n",
       "       [16, 17],\n",
       "       [12, 13],\n",
       "       [ 8,  9],\n",
       "       [14, 15],\n",
       "       [18, 19]])"
      ]
     },
     "execution_count": 256,
     "metadata": {},
     "output_type": "execute_result"
    }
   ],
   "source": [
    "Xtrain"
   ]
  },
  {
   "cell_type": "code",
   "execution_count": 257,
   "metadata": {},
   "outputs": [
    {
     "data": {
      "text/plain": [
       "array([[ 0. ],\n",
       "       [ 0.6],\n",
       "       [ 0.4],\n",
       "       [ 1.6],\n",
       "       [ 1.2],\n",
       "       [ 0.8],\n",
       "       [ 1.4],\n",
       "       [ 1.8]])"
      ]
     },
     "execution_count": 257,
     "metadata": {},
     "output_type": "execute_result"
    }
   ],
   "source": [
    "Ttrain"
   ]
  },
  {
   "cell_type": "code",
   "execution_count": 258,
   "metadata": {},
   "outputs": [
    {
     "data": {
      "text/plain": [
       "array([[ 2,  3],\n",
       "       [10, 11]])"
      ]
     },
     "execution_count": 258,
     "metadata": {},
     "output_type": "execute_result"
    }
   ],
   "source": [
    "Xtest"
   ]
  },
  {
   "cell_type": "code",
   "execution_count": 259,
   "metadata": {},
   "outputs": [
    {
     "data": {
      "text/plain": [
       "array([[ 0.2],\n",
       "       [ 1. ]])"
      ]
     },
     "execution_count": 259,
     "metadata": {},
     "output_type": "execute_result"
    }
   ],
   "source": [
    "Ttest"
   ]
  },
  {
   "cell_type": "markdown",
   "metadata": {},
   "source": [
    "### Comparison"
   ]
  },
  {
   "cell_type": "markdown",
   "metadata": {},
   "source": [
    "I am using the ```energydata_complete.csv``` data taken from the UC Irvine Machine Learning Repository for the following comparisons. This data can easily be loaded using pandas. I then create matrix $X$ using all columns except ```['date','Appliances', 'rv1', 'rv2']``` and create $T$ using just ```'Appliances'```.  "
   ]
  },
  {
   "cell_type": "code",
   "execution_count": 260,
   "metadata": {},
   "outputs": [
    {
     "name": "stderr",
     "output_type": "stream",
     "text": [
      "  % Total    % Received % Xferd  Average Speed   Time    Time     Time  Current\n",
      "                                 Dload  Upload   Total   Spent    Left  Speed\n",
      "\n",
      "  0     0    0     0    0     0      0      0 --:--:-- --:--:-- --:--:--     0\n",
      "  4 11.4M    4  496k    0     0   496k      0  0:00:23 --:--:--  0:00:23  519k\n",
      " 33 11.4M   33 3872k    0     0  3872k      0  0:00:03  0:00:01  0:00:02 1981k\n",
      "100 11.4M  100 11.4M    0     0  5849k      0  0:00:02  0:00:02 --:--:-- 3981k\n"
     ]
    }
   ],
   "source": [
    "!curl -O https://archive.ics.uci.edu/ml/machine-learning-databases/00374/energydata_complete.csv"
   ]
  },
  {
   "cell_type": "code",
   "execution_count": 261,
   "metadata": {
    "collapsed": true
   },
   "outputs": [],
   "source": [
    "# Assumes the following line has been run in ipython or in your command shell without the leading !\n",
    "# !curl -O http://archive.ics.uci.edu/ml/machine-learning-databases/00374/energydata_complete.csv\">http://archive.ics.uci.edu/ml/machine-learning-databases/00374/energydata_complete.csv\n",
    "\n",
    "import pandas as pd\n",
    "import numpy as np\n",
    "import neuralnetworksA2 as nn\n",
    "import matplotlib.pyplot as plt\n",
    "%matplotlib inline\n",
    "from IPython.display import display, clear_output"
   ]
  },
  {
   "cell_type": "code",
   "execution_count": 262,
   "metadata": {},
   "outputs": [
    {
     "data": {
      "text/plain": [
       "<module 'neuralnetworksA2' from 'C:\\\\workspace\\\\jupyter\\\\CS445\\\\A3 Activation Functions\\\\neuralnetworksA2.py'>"
      ]
     },
     "execution_count": 262,
     "metadata": {},
     "output_type": "execute_result"
    }
   ],
   "source": [
    "# import function does not automatically import a new version of a file\n",
    "# To make python automatically reload files, we need to use these commands\n",
    "import imp\n",
    "imp.reload(nn)"
   ]
  },
  {
   "cell_type": "code",
   "execution_count": 263,
   "metadata": {
    "collapsed": true
   },
   "outputs": [],
   "source": [
    "# read in the dataset we are interested in\n",
    "data = pd.read_csv('energydata_complete.csv')\n",
    "# read data into arrays X and T\n",
    "T = data[['Appliances']]\n",
    "T = np.array(T)\n",
    "X = data.drop(['date','Appliances', 'rv1', 'rv2'], axis=1)\n",
    "X = np.array(X)"
   ]
  },
  {
   "cell_type": "code",
   "execution_count": 264,
   "metadata": {
    "collapsed": true
   },
   "outputs": [],
   "source": [
    "def rmse(A, B):\n",
    "    return np.sqrt(np.mean((A - B)**2))"
   ]
  },
  {
   "cell_type": "markdown",
   "metadata": {},
   "source": [
    "This python code performs the following algorithm, for each activation function ```tanh``` and ```ReLU```"
   ]
  },
  {
   "cell_type": "markdown",
   "metadata": {},
   "source": [
    "  - For each of the two activation functions, ```tanh```, and ```ReLU```:\n",
    "      - For each hidden layer structure in [[u]*nl for u in [1, 2, 5, 10, 50] for nl in [1, 2, 3, 4, 5, 10]]:\n",
    "          - Repeat 10 times:\n",
    "              - Randomly partition the data into training set with 80% of samples and testing set with other 20%.\n",
    "              - Create a neural network using the given activation function and hidden layer structure.\n",
    "              - Train the network for 100 iterations.\n",
    "              - Calculate two RMS errors, one on the training partition and one on the testing partitions.\n",
    "          - Calculate the mean of the training and testing RMS errors over the 10 repetitions."
   ]
  },
  {
   "cell_type": "code",
   "execution_count": 218,
   "metadata": {},
   "outputs": [
    {
     "name": "stdout",
     "output_type": "stream",
     "text": [
      "hiddens = [0, [1], [1, 1], [1, 1, 1], [1, 1, 1, 1], [1, 1, 1, 1, 1], [1, 1, 1, 1, 1, 1, 1, 1, 1, 1], [2], [2, 2], [2, 2, 2], [2, 2, 2, 2], [2, 2, 2, 2, 2], [2, 2, 2, 2, 2, 2, 2, 2, 2, 2], [5], [5, 5], [5, 5, 5], [5, 5, 5, 5], [5, 5, 5, 5, 5], [5, 5, 5, 5, 5, 5, 5, 5, 5, 5], [10], [10, 10], [10, 10, 10], [10, 10, 10, 10], [10, 10, 10, 10, 10], [10, 10, 10, 10, 10, 10, 10, 10, 10, 10], [50], [50, 50], [50, 50, 50], [50, 50, 50, 50], [50, 50, 50, 50, 50], [50, 50, 50, 50, 50, 50, 50, 50, 50, 50]]\n",
      "=-=-=-=-tanh-=-=-=-=\n",
      "                                           0          1          2\n",
      "0                                          0  93.812136  93.251013\n",
      "1                                        [1]  92.618921  93.015313\n",
      "2                                     [1, 1]  92.753187  92.781406\n",
      "3                                  [1, 1, 1]  92.811451  92.332988\n",
      "4                               [1, 1, 1, 1]  92.747556  92.870851\n",
      "5                            [1, 1, 1, 1, 1]  92.772922  92.715674\n",
      "6             [1, 1, 1, 1, 1, 1, 1, 1, 1, 1]  95.557319  95.109869\n",
      "7                                        [2]  90.895747  92.871036\n",
      "8                                     [2, 2]  90.630165  92.137960\n",
      "9                                  [2, 2, 2]  90.900976  91.775429\n",
      "10                              [2, 2, 2, 2]  90.875094  94.032532\n",
      "11                           [2, 2, 2, 2, 2]  91.583046  91.774766\n",
      "12            [2, 2, 2, 2, 2, 2, 2, 2, 2, 2]  93.277331  93.485519\n",
      "13                                       [5]  88.903573  90.476024\n",
      "14                                    [5, 5]  87.515052  89.092446\n",
      "15                                 [5, 5, 5]  87.798319  89.163834\n",
      "16                              [5, 5, 5, 5]  87.999877  88.763699\n",
      "17                           [5, 5, 5, 5, 5]  87.800246  91.055081\n",
      "18            [5, 5, 5, 5, 5, 5, 5, 5, 5, 5]  89.396573  90.274103\n",
      "19                                      [10]  86.712526  88.740245\n",
      "20                                  [10, 10]  84.144028  87.222642\n",
      "21                              [10, 10, 10]  83.609567  88.483063\n",
      "22                          [10, 10, 10, 10]  84.333784  88.197579\n",
      "23                      [10, 10, 10, 10, 10]  84.924129  90.118370\n",
      "24  [10, 10, 10, 10, 10, 10, 10, 10, 10, 10]  87.676856  89.039433\n",
      "25                                      [50]  83.528857  86.685659\n",
      "26                                  [50, 50]  83.164075  85.693718\n",
      "27                              [50, 50, 50]  83.087875  86.080841\n",
      "28                          [50, 50, 50, 50]  84.129861  85.779969\n",
      "29                      [50, 50, 50, 50, 50]  82.614287  85.228998\n",
      "30  [50, 50, 50, 50, 50, 50, 50, 50, 50, 50]  84.702055  87.434638\n",
      "=-=-=-=-ReLU-=-=-=-=\n",
      "                                           0           1           2\n",
      "0                                          0  102.023382  102.103975\n",
      "1                                        [1]  105.302526  106.132019\n",
      "2                                     [1, 1]  106.621303  107.660863\n",
      "3                                  [1, 1, 1]  105.608684  104.678256\n",
      "4                               [1, 1, 1, 1]  102.786850  101.396927\n",
      "5                            [1, 1, 1, 1, 1]  102.688415  101.827476\n",
      "6             [1, 1, 1, 1, 1, 1, 1, 1, 1, 1]  102.621794  102.102895\n",
      "7                                        [2]  110.376948  109.470808\n",
      "8                                     [2, 2]  108.348642  108.410168\n",
      "9                                  [2, 2, 2]  105.088123  104.969408\n",
      "10                              [2, 2, 2, 2]  102.806665  102.430796\n",
      "11                           [2, 2, 2, 2, 2]  101.315272  101.916268\n",
      "12            [2, 2, 2, 2, 2, 2, 2, 2, 2, 2]  102.280281  103.469501\n",
      "13                                       [5]  118.507227  119.764727\n",
      "14                                    [5, 5]  108.649337  107.996855\n",
      "15                                 [5, 5, 5]  109.164763  108.560042\n",
      "16                              [5, 5, 5, 5]  106.961575  107.569596\n",
      "17                           [5, 5, 5, 5, 5]  108.643847  108.053874\n",
      "18            [5, 5, 5, 5, 5, 5, 5, 5, 5, 5]   99.923537   98.962569\n",
      "19                                      [10]  132.000682  131.744237\n",
      "20                                  [10, 10]  112.327014  112.413030\n",
      "21                              [10, 10, 10]  110.732882  110.136710\n",
      "22                          [10, 10, 10, 10]  106.885299  109.710017\n",
      "23                      [10, 10, 10, 10, 10]  105.095419  104.791003\n",
      "24  [10, 10, 10, 10, 10, 10, 10, 10, 10, 10]  102.486140  104.085762\n",
      "25                                      [50]  141.745890  141.964056\n",
      "26                                  [50, 50]  111.387083  110.484640\n",
      "27                              [50, 50, 50]  110.254952  112.265699\n",
      "28                          [50, 50, 50, 50]  108.852629  107.741553\n",
      "29                      [50, 50, 50, 50, 50]  104.916648  105.439467\n",
      "30  [50, 50, 50, 50, 50, 50, 50, 50, 50, 50]   98.698597  100.032746\n"
     ]
    }
   ],
   "source": [
    "errorsTanh = []\n",
    "errorsReLU = []\n",
    "hiddens = [0] + [[nu] * nl for nu in [1, 2, 5, 10, 50] for nl in [1,2,3,4,5,10]]\n",
    "rmseTrain = 0\n",
    "rmseTest = 0\n",
    "print('hiddens =', hiddens)\n",
    "# tanh activation function\n",
    "for hids in hiddens: \n",
    "    for count in range(0,10):\n",
    "        Xtrain, Ttrain, Xtest, Ttest = partition(X, T, 0.8, shuffle=True)\n",
    "        nnet = nn.NeuralNetwork(Xtrain.shape[1], hids, Ttrain.shape[1])\n",
    "        nnet.train(Xtrain, Ttrain, 100)\n",
    "        rmseTrain += rmse(Ttrain, nnet.use(Xtrain))\n",
    "        rmseTest += rmse(Ttest, nnet.use(Xtest))\n",
    "    errorsTanh.append([hids, (rmseTrain/10), (rmseTest/10)])\n",
    "    rmseTrain = 0\n",
    "    rmseTest = 0\n",
    "# ReLU activation function\n",
    "rmseTrain = 0\n",
    "rmseTest = 0\n",
    "for hids in hiddens: \n",
    "    for count in range(0,10):\n",
    "        Xtrain, Ttrain, Xtest, Ttest = partition(X, T, 0.8, shuffle=True)\n",
    "        nnet = nn.NeuralNetworkReLU(Xtrain.shape[1], hids, Ttrain.shape[1])\n",
    "        nnet.train(Xtrain, Ttrain, 100)\n",
    "        rmseTrain += rmse(Ttrain, nnet.use(Xtrain))\n",
    "        rmseTest += rmse(Ttest, nnet.use(Xtest))\n",
    "    errorsReLU.append([hids, (rmseTrain/10), (rmseTest/10)])\n",
    "    rmseTrain = 0\n",
    "    rmseTest = 0\n",
    "# use panda to print things in a nice format\n",
    "errorsTanh = pd.DataFrame(errorsTanh)\n",
    "errorsReLU = pd.DataFrame(errorsReLU)\n",
    "print('=-=-=-=-tanh-=-=-=-=')\n",
    "print(errorsTanh)\n",
    "print('=-=-=-=-ReLU-=-=-=-=')\n",
    "print(errorsReLU)"
   ]
  },
  {
   "cell_type": "markdown",
   "metadata": {},
   "source": [
    "And we can plot this data to take a better look at it using the following code:"
   ]
  },
  {
   "cell_type": "code",
   "execution_count": 265,
   "metadata": {},
   "outputs": [
    {
     "data": {
      "image/png": "[encoded data removed]",
      "text/plain": [
       "<matplotlib.figure.Figure at 0x2b6cb057710>"
      ]
     },
     "metadata": {},
     "output_type": "display_data"
    }
   ],
   "source": [
    "plt.figure(figsize=(20, 10))\n",
    "plt.plot(errorsTanh.values[:, 1:], 'o-')\n",
    "plt.plot(errorsReLU.values[:, 1:], 'o-')\n",
    "plt.suptitle('RMS errors versus the hidden layer structure')\n",
    "plt.legend(('Train tanh RMSE', 'Test tanh RMSE', 'Train ReLU RMSE', 'Test ReLU RMSE'))\n",
    "plt.xlabel('Hidden Layer Structure')\n",
    "plt.ylabel('Root Mean Square Error')\n",
    "plt.xticks(range(errorsTanh.shape[0]), hiddens, rotation=30, horizontalalignment='right')\n",
    "plt.grid(True)"
   ]
  },
  {
   "cell_type": "markdown",
   "metadata": {},
   "source": [
    "When I examine this data, it is really hard to draw any conclusions at all, other than that both activation functions, tanh() and ReLU(), seem to preform adequately. Both also have errors. Neither activation function really seems \"better\" than the other by any definitive means. \n",
    "\n",
    "Now, given some of the other data that I have read in my own research, I would expect to see ReLU to be more accurate more often. It is one of the most commonly used activation functions, and has been extensively tested. However, this testing suite seems to point to very little difference between it and tanh() regardless of the amount of times I have run the data."
   ]
  },
  {
   "cell_type": "markdown",
   "metadata": {},
   "source": [
    "As a side note: I am really interested in testing the Swish() function and comparing all three here. Though I'm not going to have it completed in time for the assignment submission, I still am going to code it in. I suspect that I am going to see the same kind of results; a good estimation with general errors that works about as well as the others. However, it will be interesting to see, because the authors of the provided paper really seemed to think it was going to change things a ton. "
   ]
  }
 ],
 "metadata": {
  "kernelspec": {
   "display_name": "Python 3",
   "language": "python",
   "name": "python3"
  },
  "language_info": {
   "codemirror_mode": {
    "name": "ipython",
    "version": 3
   },
   "file_extension": ".py",
   "mimetype": "text/x-python",
   "name": "python",
   "nbconvert_exporter": "python",
   "pygments_lexer": "ipython3",
   "version": "3.6.3"
  }
 },
 "nbformat": 4,
 "nbformat_minor": 1
}
